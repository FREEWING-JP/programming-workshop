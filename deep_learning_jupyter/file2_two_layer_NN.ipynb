{
 "cells": [
  {
   "cell_type": "markdown",
   "metadata": {},
   "source": [
    "# 2. ニューラルネットワークを行列計算で表現する"
   ]
  },
  {
   "cell_type": "code",
   "execution_count": 1,
   "metadata": {
    "collapsed": true
   },
   "outputs": [],
   "source": [
    "'''\n",
    "初期設定箇所。このセルは変更せずに実行してください\n",
    "'''\n",
    "import numpy as np\n",
    "import os, sys\n",
    "sys.path.append(os.pardir)  # 親ディレクトリのファイルをインポートするための設定\n",
    "from common.functions import sigmoid #sigmoid関数をインポート"
   ]
  },
  {
   "cell_type": "markdown",
   "metadata": {},
   "source": [
    "## 2-1. 先ほどのニューラルネットワークの前半部分を行列で表現してみる\n",
    "![alt](https://raw.githubusercontent.com/yoshihiroo/programming-workshop/master/deep_learning_jupyter/figure/WS000001.JPG)"
   ]
  },
  {
   "cell_type": "code",
   "execution_count": 2,
   "metadata": {},
   "outputs": [
    {
     "name": "stdout",
     "output_type": "stream",
     "text": [
      "[ 0.57444252  0.66818777  0.75026011]\n"
     ]
    }
   ],
   "source": [
    "W = np.array([[0.1,0.2],[0.3,0.4],[0.5,0.6]])\n",
    "x = np.array([1.0,0.5])\n",
    "b = np.array([0.1,0.2,0.3])\n",
    "z = sigmoid( np.dot(W,x) + b )\n",
    "print(z)"
   ]
  },
  {
   "cell_type": "markdown",
   "metadata": {
    "collapsed": true
   },
   "source": [
    "## 2-2. 全体を行列で表現してみる\n",
    "![alt](https://raw.githubusercontent.com/yoshihiroo/programming-workshop/master/deep_learning_jupyter/figure/WS000000.JPG)"
   ]
  },
  {
   "cell_type": "code",
   "execution_count": 3,
   "metadata": {},
   "outputs": [
    {
     "name": "stdout",
     "output_type": "stream",
     "text": [
      "[ 0.31682708  0.69627909]\n"
     ]
    }
   ],
   "source": [
    "W1 = np.array([[0.1,0.2], [0.3,0.4], [0.5,0.6]])\n",
    "x = np.array([1.0, 0.5])\n",
    "b1 = np.array([0.1, 0.2, 0.3])\n",
    "z1 = sigmoid( np.dot(W1, x) + b1 )\n",
    "\n",
    "W2 = np.array([[0.1,0.2,0.3], [0.4,0.5,0.6]])\n",
    "b2 = np.array([0.1, 0.2])\n",
    "z2 = sigmoid( np.dot(W2, z1) + b2 )\n",
    "\n",
    "W3 = np.array([[0.1,0.2], [0.3,0.4]])\n",
    "b3 = np.array([0.1, 0.2])\n",
    "z3 = np.dot(W3, z2) + b3\n",
    "\n",
    "print(z3)"
   ]
  },
  {
   "cell_type": "code",
   "execution_count": null,
   "metadata": {
    "collapsed": true
   },
   "outputs": [],
   "source": []
  }
 ],
 "metadata": {
  "kernelspec": {
   "display_name": "Python 3",
   "language": "python",
   "name": "python3"
  },
  "language_info": {
   "codemirror_mode": {
    "name": "ipython",
    "version": 3
   },
   "file_extension": ".py",
   "mimetype": "text/x-python",
   "name": "python",
   "nbconvert_exporter": "python",
   "pygments_lexer": "ipython3",
   "version": "3.6.2"
  }
 },
 "nbformat": 4,
 "nbformat_minor": 2
}
