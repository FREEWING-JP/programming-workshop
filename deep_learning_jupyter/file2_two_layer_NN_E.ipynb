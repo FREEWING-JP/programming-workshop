{
 "cells": [
  {
   "cell_type": "markdown",
   "metadata": {},
   "source": [
    "# 2. Expression of neural network by matrix calculation"
   ]
  },
  {
   "cell_type": "code",
   "execution_count": 1,
   "metadata": {
    "collapsed": true
   },
   "outputs": [],
   "source": [
    "'''\n",
    "Initial setting. Please do not change this cell\n",
    "'''\n",
    "import numpy as np # Import numpy library\n",
    "import os, sys\n",
    "sys.path.append(os.pardir)  # Settings for importing files in parent directory\n",
    "from common.functions import sigmoid # Import sigmoid function"
   ]
  },
  {
   "cell_type": "markdown",
   "metadata": {},
   "source": [
    "## 2-1. Let's express the first part of the neural network as a matrix\n",
    "![alt](https://raw.githubusercontent.com/yoshihiroo/programming-workshop/master/deep_learning_jupyter/figure/WS000001.JPG)"
   ]
  },
  {
   "cell_type": "code",
   "execution_count": 2,
   "metadata": {},
   "outputs": [
    {
     "name": "stdout",
     "output_type": "stream",
     "text": [
      "[ 0.57444252  0.66818777  0.75026011]\n"
     ]
    }
   ],
   "source": [
    "'''\n",
    "Please insert correct numbers or letters in \"None\"\n",
    "'''\n",
    "W = np.array([[0.1,0.2],[0.3,0.4],[0.5,0.6]])\n",
    "x = np.array([1.0,0.5])\n",
    "b = np.array([0.1,0.2,0.3])\n",
    "z = sigmoid( np.dot(W,x) + b)\n",
    "print(z) # Expected output [ 0.57444252  0.66818777  0.75026011]"
   ]
  },
  {
   "cell_type": "markdown",
   "metadata": {
    "collapsed": true
   },
   "source": [
    "## 2-2. Express the whole as a matrix\n",
    "![alt](https://raw.githubusercontent.com/yoshihiroo/programming-workshop/master/deep_learning_jupyter/figure/WS000000.JPG)"
   ]
  },
  {
   "cell_type": "code",
   "execution_count": 3,
   "metadata": {},
   "outputs": [
    {
     "name": "stdout",
     "output_type": "stream",
     "text": [
      "[ 0.31682708  0.69627909]\n"
     ]
    }
   ],
   "source": [
    "'''\n",
    "Please insert correct numbers or letters in \"None\"\n",
    "'''\n",
    "W1 = np.array([[0.1,0.2], [0.3,0.4], [0.5,0.6]])\n",
    "x = np.array([1.0, 0.5])\n",
    "b1 = np.array([0.1, 0.2, 0.3])\n",
    "z1 = sigmoid( np.dot(W1, x) + b1 )\n",
    "\n",
    "W2 = np.array([[0.1,0.2,0.3], [0.4,0.5,0.6]])\n",
    "b2 = np.array([0.1, 0.2])\n",
    "z2 = sigmoid( np.dot(W2, z1) + b2 )\n",
    "\n",
    "W3 = np.array([[0.1,0.2], [0.3,0.4]])\n",
    "b3 = np.array([0.1, 0.2])\n",
    "z3 = np.dot(W3, z2) + b3\n",
    "\n",
    "print(z3) # Expected output[ 0.31682708  0.69627909]"
   ]
  },
  {
   "cell_type": "code",
   "execution_count": null,
   "metadata": {
    "collapsed": true
   },
   "outputs": [],
   "source": []
  }
 ],
 "metadata": {
  "kernelspec": {
   "display_name": "Python 3",
   "language": "python",
   "name": "python3"
  },
  "language_info": {
   "codemirror_mode": {
    "name": "ipython",
    "version": 3
   },
   "file_extension": ".py",
   "mimetype": "text/x-python",
   "name": "python",
   "nbconvert_exporter": "python",
   "pygments_lexer": "ipython3",
   "version": "3.6.2"
  }
 },
 "nbformat": 4,
 "nbformat_minor": 2
}
