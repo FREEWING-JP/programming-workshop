{
 "cells": [
  {
   "cell_type": "markdown",
   "metadata": {},
   "source": [
    "# 3. 手書き文字(数字)認識の実践"
   ]
  },
  {
   "cell_type": "code",
   "execution_count": null,
   "metadata": {
    "collapsed": true
   },
   "outputs": [],
   "source": [
    "# coding: utf-8\n",
    "'''\n",
    "    初期設定箇所。このセルは変更せずに実行してください\n",
    "'''\n",
    "%matplotlib inline\n",
    "import numpy as np\n",
    "import matplotlib.pyplot as plt #グラフの描画\n",
    "import os, sys\n",
    "sys.path.append(os.pardir)  # 親ディレクトリのファイルをインポートするための設定\n",
    "from dataset.mnist import load_mnist\n",
    "from common.multi_layer_net_extend import MultiLayerNetExtend\n",
    "from common.trainer import Trainer\n",
    "from common.functions import sigmoid"
   ]
  },
  {
   "cell_type": "markdown",
   "metadata": {},
   "source": [
    "## 3-1. MNISTデータの表示"
   ]
  },
  {
   "cell_type": "code",
   "execution_count": null,
   "metadata": {},
   "outputs": [],
   "source": [
    "(x_train, t_train), (x_test, t_test) = load_mnist(normalize=True, flatten=True) # MNISTデータの読み込み\n",
    "'''\n",
    "    x_train: トレーニング用データ             (60000, 784)\n",
    "    t_train: トレーニング用データの正解ラベル (60000,)\n",
    "    x_test: テスト用データ                    (10000, 784)\n",
    "    t_test: テスト用データの正解ラベル        (10000,)\n",
    "'''\n",
    "number_images = 10 # 最初の10枚だけ読み込む\n",
    "fig = plt.figure(figsize=(20, 2))\n",
    "for number in range(number_images):\n",
    "    fig.add_subplot(1,number_images,number+1)\n",
    "    plt.title(\"Label={0}\".format(t_train[number])) # 正解ラベルの表示\n",
    "    plt.imshow(np.array(x_train[number].reshape(28, 28)),cmap='gray', aspect=\"equal\") # 画像を28x28に成形したうえで描画する\n",
    "    plt.tick_params(labelbottom=\"off\", bottom=\"off\", labelleft=\"off\", left=\"off\") # 軸を削除"
   ]
  },
  {
   "cell_type": "markdown",
   "metadata": {},
   "source": [
    "## 3-2. ニューラルネットワークの学習"
   ]
  },
  {
   "cell_type": "code",
   "execution_count": null,
   "metadata": {},
   "outputs": [],
   "source": [
    "'''\n",
    "    以下の4行が学習の処理を行っている箇所\n",
    "    60,000枚から100枚の画像をランダムに抽出し損失関数の値を算出、train lossとして表示\n",
    "    上記を600回繰り返すごとにepoch +1、トレーニング用およびテスト用データそれぞれについての精度を表示\n",
    "'''\n",
    "network = MultiLayerNetExtend(input_size=784, hidden_size_list=[50, 100], output_size=10, activation=\"sigmoid\")\n",
    "trainer = Trainer(network, x_train, t_train, x_test, t_test, epochs=10, mini_batch_size=100, optimizer=\"SGD\", optimizer_param={'lr': 0.01}, verbose=True)\n",
    "trainer.train()\n",
    "train_acc_list, test_acc_list = trainer.train_acc_list, trainer.test_acc_list\n",
    "\n",
    "'''\n",
    "    epochを10まで繰り返し、結果をグラフ表示\n",
    "'''\n",
    "markers = {'train': 'o', 'test': 's'}\n",
    "x = np.arange(len(train_acc_list))\n",
    "plt.plot(x, train_acc_list, marker='o', label='train', markevery=10)\n",
    "plt.plot(x, test_acc_list, marker='s', label='test', markevery=10)\n",
    "plt.xlabel(\"epochs\")\n",
    "plt.ylabel(\"accuracy\")\n",
    "plt.ylim(0, 1.0)\n",
    "plt.legend(loc='lower right')\n",
    "plt.show()"
   ]
  },
  {
   "cell_type": "markdown",
   "metadata": {
    "collapsed": true
   },
   "source": [
    "## 3-3. 学習したニューラルネットによる推論"
   ]
  },
  {
   "cell_type": "code",
   "execution_count": null,
   "metadata": {},
   "outputs": [],
   "source": [
    "'''\n",
    "    先ほどの学習によって(そこそこに)最適化されたパラメータを読み込む\n",
    "'''\n",
    "W1, W2, W3 = network.params['W1'].T, network.params['W2'].T, network.params['W3'].T\n",
    "b1, b2, b3 = network.params['b1'], network.params['b2'], network.params['b3']\n",
    "\n",
    "'''\n",
    "    テストデータの最初の10枚を学習済のニューラルネットワークに流し込んで計算、推論の結果を表示\n",
    "'''\n",
    "fig = plt.figure(figsize=(20, 4))\n",
    "for ittr in range(10):\n",
    "\n",
    "    z1 = sigmoid( np.dot(W1, x_test[ittr]) + b1 )\n",
    "    z2 = sigmoid( np.dot(W2, z1) + b2 )\n",
    "    z3 = np.dot(W3, z2) + b3\n",
    "\n",
    "    if np.argmax(z3) == t_test[ittr]:\n",
    "        t_color = \"blue\"\n",
    "    else:\n",
    "        t_color = \"red\"\n",
    "\n",
    "    fig.add_subplot(2, 10 , ittr+1)\n",
    "    plt.title(\"Label={0}\".format(t_test[ittr])) # 正解ラベルの表示\n",
    "    plt.tick_params(labelbottom=\"off\", bottom=\"off\", labelleft=\"off\", left=\"off\")\n",
    "    plt.imshow(np.array(x_test[ittr].reshape(28, 28)),cmap='gray', aspect=\"equal\")\n",
    "    \n",
    "    fig.add_subplot(2, 10, ittr+11)\n",
    "    plt.bar(np.array(range(10)), np.exp(z3)/np.sum(np.exp(z3)), color=t_color)\n",
    "    plt.tick_params(labelleft=\"off\", left=\"off\")\n",
    "    plt.title(\"Argmax={0}\".format(np.argmax(z3))) # 推論結果の表示\n",
    "    plt.xticks(range(10))\n",
    "    \n",
    "plt.show()"
   ]
  },
  {
   "cell_type": "markdown",
   "metadata": {},
   "source": [
    "## 3-4 学習後の重みパラメータ(W1, W2, W3)を見てみる"
   ]
  },
  {
   "cell_type": "code",
   "execution_count": null,
   "metadata": {},
   "outputs": [],
   "source": [
    "# W1の各列の要素を28x28に図示\n",
    "fig = plt.figure(figsize=(20, 10))\n",
    "for ittr in range(50):\n",
    "    fig.add_subplot(5, 10 , ittr+1)\n",
    "    plt.title(\"n={0}\".format(ittr))\n",
    "    plt.imshow(np.array(W1[ittr].reshape(28,28)),cmap='gray', aspect=\"equal\")\n",
    "    plt.tick_params(labelbottom=\"off\", bottom=\"off\", labelleft=\"off\", left=\"off\")\n",
    "plt.show()"
   ]
  },
  {
   "cell_type": "code",
   "execution_count": null,
   "metadata": {},
   "outputs": [],
   "source": [
    "# W2の各列の要素を7x7に図示\n",
    "fig = plt.figure(figsize=(20, 20))\n",
    "W2t = np.delete(W2, 0, 1) # 7x7にしたいので1行減らす\n",
    "for ittr in range(100):\n",
    "    fig.add_subplot(10, 10 , ittr+1)\n",
    "    plt.title(\"n={0}\".format(ittr))\n",
    "    plt.imshow(np.array(W2t[ittr].reshape(7,7)),cmap='gray', aspect=\"equal\")\n",
    "    plt.tick_params(labelbottom=\"off\", bottom=\"off\", labelleft=\"off\", left=\"off\")\n",
    "plt.show()"
   ]
  },
  {
   "cell_type": "code",
   "execution_count": null,
   "metadata": {},
   "outputs": [],
   "source": [
    "# W3の各列の要素を10x10に図示\n",
    "fig = plt.figure(figsize=(20, 5))\n",
    "for ittr in range(10):\n",
    "    fig.add_subplot(1, 10 , ittr+1)\n",
    "    plt.title(\"n={0}\".format(ittr))\n",
    "    plt.imshow(np.array(W3[ittr].reshape(10,10)),cmap='gray', aspect=\"equal\")\n",
    "    plt.tick_params(labelbottom=\"off\", bottom=\"off\", labelleft=\"off\", left=\"off\")\n",
    "plt.show()"
   ]
  },
  {
   "cell_type": "code",
   "execution_count": null,
   "metadata": {
    "collapsed": true
   },
   "outputs": [],
   "source": []
  }
 ],
 "metadata": {
  "kernelspec": {
   "display_name": "Python 3",
   "language": "python",
   "name": "python3"
  },
  "language_info": {
   "codemirror_mode": {
    "name": "ipython",
    "version": 3
   },
   "file_extension": ".py",
   "mimetype": "text/x-python",
   "name": "python",
   "nbconvert_exporter": "python",
   "pygments_lexer": "ipython3",
   "version": "3.6.2"
  }
 },
 "nbformat": 4,
 "nbformat_minor": 2
}
