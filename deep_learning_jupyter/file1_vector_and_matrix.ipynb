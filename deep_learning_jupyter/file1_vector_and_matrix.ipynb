{
 "cells": [
  {
   "cell_type": "markdown",
   "metadata": {},
   "source": [
    "# 1. ベクトルと行列"
   ]
  },
  {
   "cell_type": "markdown",
   "metadata": {},
   "source": [
    "## 1-1. numpyライブラリを読み込む\n",
    "実行したいセル(灰色の四角の中)にカーソルを表示させた状態で、「シフト」＋「リターン」キーで実行できます。なお、ここではライブラリを読み込むだけなので、特に結果は表示されません。"
   ]
  },
  {
   "cell_type": "code",
   "execution_count": 1,
   "metadata": {
    "collapsed": true
   },
   "outputs": [],
   "source": [
    "import numpy as np"
   ]
  },
  {
   "cell_type": "markdown",
   "metadata": {},
   "source": [
    "## 1-2. ベクトルの定義\n",
    "`np.array`コマンドでベクトル$\\mathbf{a}$を定義し、`print`コマンドで表示します。ベクトルの要素の数字をいろいろと変えてみましょう。"
   ]
  },
  {
   "cell_type": "code",
   "execution_count": 2,
   "metadata": {
    "scrolled": true
   },
   "outputs": [
    {
     "name": "stdout",
     "output_type": "stream",
     "text": [
      "[1 2 3]\n"
     ]
    }
   ],
   "source": [
    "a = np.array([1, 2, 3])\n",
    "print(a)"
   ]
  },
  {
   "cell_type": "markdown",
   "metadata": {},
   "source": [
    "## 1-3. ベクトルの四則計算\n",
    "ベクトル$\\mathbf{a}$に3を足したものをベクトル$\\mathbf{b}$とします。さらにベクトル$\\mathbf{b}$を10倍したものをベクトル$\\mathbf{c}$とします。他の四則計算も試してみましょう。"
   ]
  },
  {
   "cell_type": "code",
   "execution_count": 3,
   "metadata": {},
   "outputs": [
    {
     "name": "stdout",
     "output_type": "stream",
     "text": [
      "[4 5 6]\n"
     ]
    }
   ],
   "source": [
    "b = a + 3\n",
    "print(b)"
   ]
  },
  {
   "cell_type": "code",
   "execution_count": 4,
   "metadata": {},
   "outputs": [
    {
     "name": "stdout",
     "output_type": "stream",
     "text": [
      "[40 50 60]\n"
     ]
    }
   ],
   "source": [
    "c = b * 10\n",
    "print(c)"
   ]
  },
  {
   "cell_type": "markdown",
   "metadata": {},
   "source": [
    "## 1-4. 行列の定義"
   ]
  },
  {
   "cell_type": "markdown",
   "metadata": {},
   "source": [
    "行列$\\mathbf{D}$と$\\mathbf{E}$を定義します。\n",
    "\n",
    "$\n",
    "\\mathbf{D} =\n",
    "\\begin{bmatrix} 1 & 2 & 4 \\\\ 3 & 5 & 7 \\end{bmatrix}\n",
    "$,\n",
    "$\n",
    "\\mathbf{E} =\n",
    "\\begin{bmatrix} 3 & 4 \\\\ 5 & 6 \\\\ 5 & 4 \\end{bmatrix}\n",
    "$\n",
    "\n",
    "$\\mathbf{D}$や$\\mathbf{E}$の例を参考に、もっと大きな行列(行数や列数が大きい)を作ってみましょう。"
   ]
  },
  {
   "cell_type": "code",
   "execution_count": 5,
   "metadata": {},
   "outputs": [
    {
     "name": "stdout",
     "output_type": "stream",
     "text": [
      "[[1 2 4]\n",
      " [3 5 7]]\n"
     ]
    }
   ],
   "source": [
    "D = np.array( [[1,2,4], [3,5,7]] )\n",
    "print(D)"
   ]
  },
  {
   "cell_type": "code",
   "execution_count": 6,
   "metadata": {},
   "outputs": [
    {
     "name": "stdout",
     "output_type": "stream",
     "text": [
      "[[3 4]\n",
      " [5 6]\n",
      " [5 4]]\n"
     ]
    }
   ],
   "source": [
    "E = np.array( [[3,4], [5,6], [5,4]] )\n",
    "print(E)"
   ]
  },
  {
   "cell_type": "markdown",
   "metadata": {
    "collapsed": true
   },
   "source": [
    "## 1-5. 行列の内積\n",
    "`np.dot`コマンドによって行列やベクトルの内積を計算します。ベクトル$\\mathbf{z}$は行列$\\mathbf{X}$とベクトル$\\mathbf{y}$の内積となります。\n",
    "\n",
    "$\n",
    "\\mathbf{z} = \\mathbf{X} \\cdot \\mathbf{y} =\n",
    "\\begin{bmatrix} 1 & 3 \\\\ 5 & 7 \\\\ 9 & 11 \\end{bmatrix} \\cdot\n",
    "\\begin{bmatrix} 11 \\\\ 22 \\end{bmatrix}\n",
    "$"
   ]
  },
  {
   "cell_type": "code",
   "execution_count": 7,
   "metadata": {
    "scrolled": true
   },
   "outputs": [
    {
     "name": "stdout",
     "output_type": "stream",
     "text": [
      "[[ 1  3]\n",
      " [ 5  7]\n",
      " [ 9 11]]\n",
      "[11 22]\n",
      "[ 77 209 341]\n"
     ]
    }
   ],
   "source": [
    "X = np.array( [[1,3], [5,7], [9,11]] )\n",
    "y = np.array( [11,22] )\n",
    "z = np.dot(X, y)\n",
    "print(X)\n",
    "print(y)\n",
    "print(z)"
   ]
  },
  {
   "cell_type": "markdown",
   "metadata": {},
   "source": [
    "## 1-6. 行列の要素と形\n",
    "- カギ括弧で行列の要素を指定できます。インデックスはゼロから始まります。違う要素の数字を表示させてみましょう\n",
    "- 行列に`.shape`を付けることで行列の大きさ(行数、列数)が返されます"
   ]
  },
  {
   "cell_type": "code",
   "execution_count": 8,
   "metadata": {},
   "outputs": [
    {
     "name": "stdout",
     "output_type": "stream",
     "text": [
      "[1 3]\n",
      "3\n",
      "(3, 2)\n"
     ]
    }
   ],
   "source": [
    "print(X[0])\n",
    "print(X[0][1])\n",
    "print(X.shape)"
   ]
  }
 ],
 "metadata": {
  "kernelspec": {
   "display_name": "Python 3",
   "language": "python",
   "name": "python3"
  },
  "language_info": {
   "codemirror_mode": {
    "name": "ipython",
    "version": 3
   },
   "file_extension": ".py",
   "mimetype": "text/x-python",
   "name": "python",
   "nbconvert_exporter": "python",
   "pygments_lexer": "ipython3",
   "version": "3.6.2"
  }
 },
 "nbformat": 4,
 "nbformat_minor": 2
}
