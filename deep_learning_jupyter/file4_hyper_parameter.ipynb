{
 "cells": [
  {
   "cell_type": "markdown",
   "metadata": {},
   "source": [
    "# 4. より高い精度を出せるハイパーパラメータの探求"
   ]
  },
  {
   "cell_type": "code",
   "execution_count": 1,
   "metadata": {
    "collapsed": true
   },
   "outputs": [],
   "source": [
    "# coding: utf-8\n",
    "'''\n",
    "    初期設定箇所。このセルは変更せずに実行してください\n",
    "'''\n",
    "%matplotlib inline\n",
    "import numpy as np\n",
    "import matplotlib.pyplot as plt #グラフの描画\n",
    "import os, sys\n",
    "sys.path.append(os.pardir)  # 親ディレクトリのファイルをインポートするための設定\n",
    "from dataset.mnist import load_mnist\n",
    "from common.multi_layer_net_extend import MultiLayerNetExtend\n",
    "from common.trainer import Trainer2\n",
    "\n",
    "(x_train, t_train), (x_test, t_test) = load_mnist(normalize=True, flatten=True) # Read Test Data"
   ]
  },
  {
   "cell_type": "markdown",
   "metadata": {},
   "source": [
    "## 4-1. ハイパーパラメータの設定と学習の実行、精度の確認"
   ]
  },
  {
   "cell_type": "code",
   "execution_count": 2,
   "metadata": {},
   "outputs": [
    {
     "name": "stdout",
     "output_type": "stream",
     "text": [
      "=== epoch:1, train acc:0.0993333333333, test acc:0.1 ===\n",
      "=== epoch:2, train acc:0.340116666667, test acc:0.3511 ===\n",
      "=== epoch:3, train acc:0.559683333333, test acc:0.5773 ===\n",
      "=== epoch:4, train acc:0.6025, test acc:0.6086 ===\n",
      "=== epoch:5, train acc:0.64065, test acc:0.648 ===\n",
      "=== epoch:6, train acc:0.69765, test acc:0.7041 ===\n",
      "=== epoch:7, train acc:0.717433333333, test acc:0.7241 ===\n",
      "=== epoch:8, train acc:0.7746, test acc:0.7832 ===\n",
      "=== epoch:9, train acc:0.789516666667, test acc:0.7954 ===\n",
      "=== epoch:10, train acc:0.812466666667, test acc:0.8164 ===\n",
      "=============== Final Test Accuracy ===============\n",
      "test acc:0.8302\n"
     ]
    },
    {
     "data": {
      "image/png": "[encoded data removed]",
      "text/plain": [
       "<matplotlib.figure.Figure at 0x7f358460ae48>"
      ]
     },
     "metadata": {},
     "output_type": "display_data"
    }
   ],
   "source": [
    "'''\n",
    "    下記のハイパーパラメータのみを変更してください\n",
    "\n",
    "    ハイパーパラメータ  説明                        値(例)\n",
    "    ------------------  --------------------------  -------------------\n",
    "    hidden_size_list    隠れレイヤーの数とノード数  [50, 100]\n",
    "    activation          隠れレイヤーの活性化関数    \"sigmoid\" | \"relu\"\n",
    "    optimizer           最適化手法の種類            \"SGD\" | \"Momentum\" | \"Nesterov\" | \"AdaGrad\" | \"RMSprop\" | \"Adam\"\n",
    "    epochs              学習時間の長さ              10 (大きくすると時間がかかります)\n",
    "'''\n",
    "hidden_size_list=[50, 100]\n",
    "activation=\"sigmoid\"\n",
    "optimizer=\"SGD\"\n",
    "epochs=10\n",
    "\n",
    "'''\n",
    "    以下は変更しないでください\n",
    "'''\n",
    "# 学習==========\n",
    "network = MultiLayerNetExtend(input_size=784, hidden_size_list=hidden_size_list, output_size=10, activation=activation)\n",
    "trainer = Trainer2(network, x_train, t_train, x_test, t_test, epochs=epochs, mini_batch_size=100, optimizer=optimizer, optimizer_param={'lr': 0.01}, verbose=True)\n",
    "trainer.train()\n",
    "train_acc_list, test_acc_list = trainer.train_acc_list, trainer.test_acc_list\n",
    "\n",
    "# グラフの描画==========\n",
    "markers = {'train': 'o', 'test': 's'}\n",
    "x = np.arange(len(train_acc_list))\n",
    "plt.plot(x, train_acc_list, marker='o', label='train', markevery=10)\n",
    "plt.plot(x, test_acc_list, marker='s', label='test', markevery=10)\n",
    "plt.xlabel(\"epochs\")\n",
    "plt.ylabel(\"accuracy\")\n",
    "plt.ylim(0, 1.0)\n",
    "plt.legend(loc='lower right')\n",
    "plt.show()"
   ]
  },
  {
   "cell_type": "code",
   "execution_count": null,
   "metadata": {
    "collapsed": true
   },
   "outputs": [],
   "source": []
  }
 ],
 "metadata": {
  "kernelspec": {
   "display_name": "Python 3",
   "language": "python",
   "name": "python3"
  },
  "language_info": {
   "codemirror_mode": {
    "name": "ipython",
    "version": 3
   },
   "file_extension": ".py",
   "mimetype": "text/x-python",
   "name": "python",
   "nbconvert_exporter": "python",
   "pygments_lexer": "ipython3",
   "version": "3.6.2"
  }
 },
 "nbformat": 4,
 "nbformat_minor": 2
}
