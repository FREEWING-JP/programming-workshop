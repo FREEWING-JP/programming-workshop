{
 "cells": [
  {
   "cell_type": "markdown",
   "metadata": {},
   "source": [
    "# 1. Vector and Matrix"
   ]
  },
  {
   "cell_type": "markdown",
   "metadata": {},
   "source": [
    "## 1-1. Import numpy library\n",
    "You can execute with \"shift\" + \"return\" key with the cursor displayed in the cell (inside the gray square). Since we only read libraries here, the result is not displayed in particular."
   ]
  },
  {
   "cell_type": "code",
   "execution_count": 1,
   "metadata": {
    "collapsed": true
   },
   "outputs": [],
   "source": [
    "import numpy as np"
   ]
  },
  {
   "cell_type": "markdown",
   "metadata": {},
   "source": [
    "## 1-2. Define vector\n",
    "Define the vector $\\mathbf{a}$ with the `np.array` command and display it with the `print` command. Let's change the numbers of elements of the vector in various ways."
   ]
  },
  {
   "cell_type": "code",
   "execution_count": 2,
   "metadata": {
    "scrolled": true
   },
   "outputs": [
    {
     "name": "stdout",
     "output_type": "stream",
     "text": [
      "[1 2 3]\n"
     ]
    }
   ],
   "source": [
    "a = np.array([1, 2, 3])\n",
    "print(a)"
   ]
  },
  {
   "cell_type": "markdown",
   "metadata": {},
   "source": [
    "## 1-3. The four (arithmetic) operations of vectors\n",
    "The vector $\\mathbf{a}$ plus 3 is the vector $\\mathbf{b}$. Furthermore, we multiply the vector $\\mathbf{b}$ by 10 times as the vector $\\mathbf{c}$. Let's try other four arithmetic calculations."
   ]
  },
  {
   "cell_type": "code",
   "execution_count": 3,
   "metadata": {},
   "outputs": [
    {
     "name": "stdout",
     "output_type": "stream",
     "text": [
      "[4 5 6]\n"
     ]
    }
   ],
   "source": [
    "b = a + 3\n",
    "print(b)"
   ]
  },
  {
   "cell_type": "code",
   "execution_count": 4,
   "metadata": {},
   "outputs": [
    {
     "name": "stdout",
     "output_type": "stream",
     "text": [
      "[40 50 60]\n"
     ]
    }
   ],
   "source": [
    "c = b * 10\n",
    "print(c)"
   ]
  },
  {
   "cell_type": "markdown",
   "metadata": {},
   "source": [
    "## 1-4. Define matrix"
   ]
  },
  {
   "cell_type": "markdown",
   "metadata": {},
   "source": [
    "Define matrices $\\mathbf{D}$ and $\\mathbf{E}$.\n",
    "\n",
    "$\n",
    "\\mathbf{D} =\n",
    "\\begin{bmatrix} 1 & 2 & 4 \\\\ 3 & 5 & 7 \\end{bmatrix}\n",
    "$,\n",
    "$\n",
    "\\mathbf{E} =\n",
    "\\begin{bmatrix} 3 & 4 \\\\ 5 & 6 \\\\ 5 & 4 \\end{bmatrix}\n",
    "$\n",
    "\n",
    "Let's create a larger matrix (large number of rows and large number of columns) with reference to the examples of $\\mathbf{D}$ and $\\mathbf{E}$."
   ]
  },
  {
   "cell_type": "code",
   "execution_count": 5,
   "metadata": {},
   "outputs": [
    {
     "name": "stdout",
     "output_type": "stream",
     "text": [
      "[[1 2 4]\n",
      " [3 5 7]]\n"
     ]
    }
   ],
   "source": [
    "D = np.array( [[1,2,4], [3,5,7]] )\n",
    "print(D)"
   ]
  },
  {
   "cell_type": "code",
   "execution_count": 6,
   "metadata": {},
   "outputs": [
    {
     "name": "stdout",
     "output_type": "stream",
     "text": [
      "[[3 4]\n",
      " [5 6]\n",
      " [5 4]]\n"
     ]
    }
   ],
   "source": [
    "E = np.array( [[3,4], [5,6], [5,4]] )\n",
    "print(E)"
   ]
  },
  {
   "cell_type": "markdown",
   "metadata": {
    "collapsed": true
   },
   "source": [
    "## 1-5. Inner product of matrix\n",
    "Use the `np.dot` command to calculate the dot product of a matrix or vector. The vector $\\mathbf{z}$ is the inner product of the matrix $\\mathbf{X}$ and the vector $\\mathbf{y}$.\n",
    "\n",
    "$\n",
    "\\mathbf{z} = \\mathbf{X} \\cdot \\mathbf{y} =\n",
    "\\begin{bmatrix} 1 & 3 \\\\ 5 & 7 \\\\ 9 & 11 \\end{bmatrix} \\cdot\n",
    "\\begin{bmatrix} 11 \\\\ 22 \\end{bmatrix}\n",
    "$"
   ]
  },
  {
   "cell_type": "code",
   "execution_count": 7,
   "metadata": {
    "scrolled": true
   },
   "outputs": [
    {
     "name": "stdout",
     "output_type": "stream",
     "text": [
      "[[ 1  3]\n",
      " [ 5  7]\n",
      " [ 9 11]]\n",
      "[11 22]\n",
      "[ 77 209 341]\n"
     ]
    }
   ],
   "source": [
    "X = np.array( [[1,3], [5,7], [9,11]] )\n",
    "y = np.array( [11,22] )\n",
    "z = np.dot(X, y)\n",
    "print(X)\n",
    "print(y)\n",
    "print(z)"
   ]
  },
  {
   "cell_type": "markdown",
   "metadata": {},
   "source": [
    "## 1-6. Matrix elements and shapes\n",
    "- Elements of a matrix can be specified with square brackets. The index starts from zero. Let's display numbers of different elements\n",
    "- The matrix size (number of rows, number of columns) is returned by adding `.shape` to the matrix"
   ]
  },
  {
   "cell_type": "code",
   "execution_count": 8,
   "metadata": {},
   "outputs": [
    {
     "name": "stdout",
     "output_type": "stream",
     "text": [
      "[1 3]\n",
      "3\n",
      "(3, 2)\n"
     ]
    }
   ],
   "source": [
    "print(X[0])\n",
    "print(X[0][1])\n",
    "print(X.shape)"
   ]
  }
 ],
 "metadata": {
  "kernelspec": {
   "display_name": "Python 3",
   "language": "python",
   "name": "python3"
  },
  "language_info": {
   "codemirror_mode": {
    "name": "ipython",
    "version": 3
   },
   "file_extension": ".py",
   "mimetype": "text/x-python",
   "name": "python",
   "nbconvert_exporter": "python",
   "pygments_lexer": "ipython3",
   "version": "3.6.2"
  }
 },
 "nbformat": 4,
 "nbformat_minor": 2
}
