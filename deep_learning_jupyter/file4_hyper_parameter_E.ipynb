{
 "cells": [
  {
   "cell_type": "markdown",
   "metadata": {},
   "source": [
    "# 4. Search for hyperparameters that can produce higher accuracy"
   ]
  },
  {
   "cell_type": "code",
   "execution_count": 1,
   "metadata": {
    "collapsed": true
   },
   "outputs": [],
   "source": [
    "# coding: utf-8\n",
    "'''\n",
    "    Initial setting. Please do not change this cell\n",
    "'''\n",
    "%matplotlib inline\n",
    "import numpy as np # Import numpy library\n",
    "import matplotlib.pyplot as plt # Draw graph\n",
    "import os, sys\n",
    "sys.path.append(os.pardir)  # Settings for importing files in parent directory\n",
    "from dataset.mnist import load_mnist\n",
    "from common.multi_layer_net_extend import MultiLayerNetExtend\n",
    "from common.trainer import Trainer2\n",
    "\n",
    "(x_train, t_train), (x_test, t_test) = load_mnist(normalize=True, flatten=True) # Read Test Data"
   ]
  },
  {
   "cell_type": "markdown",
   "metadata": {},
   "source": [
    "## 4-1. Setting hyperparameters and executing training, confirming accuracy"
   ]
  },
  {
   "cell_type": "code",
   "execution_count": 2,
   "metadata": {},
   "outputs": [
    {
     "name": "stdout",
     "output_type": "stream",
     "text": [
      "=== epoch:1, train acc:0.104416666667, test acc:0.1028 ===\n",
      "=== epoch:2, train acc:0.39085, test acc:0.4021 ===\n",
      "=== epoch:3, train acc:0.5324, test acc:0.5423 ===\n",
      "=== epoch:4, train acc:0.5867, test acc:0.5929 ===\n",
      "=== epoch:5, train acc:0.634183333333, test acc:0.6427 ===\n",
      "=== epoch:6, train acc:0.678333333333, test acc:0.6865 ===\n",
      "=== epoch:7, train acc:0.714583333333, test acc:0.7245 ===\n",
      "=== epoch:8, train acc:0.74535, test acc:0.7519 ===\n",
      "=== epoch:9, train acc:0.775383333333, test acc:0.7838 ===\n",
      "=== epoch:10, train acc:0.800416666667, test acc:0.8059 ===\n",
      "=============== Final Test Accuracy ===============\n",
      "test acc:0.821\n"
     ]
    },
    {
     "data": {
      "image/png": "[encoded data removed]",
      "text/plain": [
       "<matplotlib.figure.Figure at 0x7fe348103e48>"
      ]
     },
     "metadata": {},
     "output_type": "display_data"
    }
   ],
   "source": [
    "'''\n",
    "    Please change only the hyper parameter below\n",
    "\n",
    "    Hyper Parameter     Description                       Value(Example)\n",
    "    ------------------  --------------------------------- -------------------\n",
    "    hidden_size_list    Number of hidden layers and nodes [50, 100]\n",
    "    activation          Hidden layer activation function  \"sigmoid\" | \"relu\"\n",
    "    optimizer           Types of optimization methods     \"SGD\" | \"Momentum\" | \"Nesterov\" | \"AdaGrad\" | \"RMSprop\" | \"Adam\"\n",
    "    epochs              Length of learning time           10 (Larger number takes longer time)\n",
    "'''\n",
    "hidden_size_list=[50, 100]\n",
    "activation=\"sigmoid\"\n",
    "optimizer=\"SGD\"\n",
    "epochs=10\n",
    "\n",
    "'''\n",
    "    Please do not change below\n",
    "'''\n",
    "# Training==========\n",
    "network = MultiLayerNetExtend(input_size=784, hidden_size_list=hidden_size_list, output_size=10, activation=activation)\n",
    "trainer = Trainer2(network, x_train, t_train, x_test, t_test, epochs=epochs, mini_batch_size=100, optimizer=optimizer, optimizer_param={'lr': 0.01}, verbose=True)\n",
    "trainer.train()\n",
    "train_acc_list, test_acc_list = trainer.train_acc_list, trainer.test_acc_list\n",
    "\n",
    "# Draw graph==========\n",
    "markers = {'train': 'o', 'test': 's'}\n",
    "x = np.arange(len(train_acc_list))\n",
    "plt.plot(x, train_acc_list, marker='o', label='train', markevery=10)\n",
    "plt.plot(x, test_acc_list, marker='s', label='test', markevery=10)\n",
    "plt.xlabel(\"epochs\")\n",
    "plt.ylabel(\"accuracy\")\n",
    "plt.ylim(0, 1.0)\n",
    "plt.legend(loc='lower right')\n",
    "plt.show()"
   ]
  },
  {
   "cell_type": "code",
   "execution_count": null,
   "metadata": {
    "collapsed": true
   },
   "outputs": [],
   "source": []
  }
 ],
 "metadata": {
  "kernelspec": {
   "display_name": "Python 3",
   "language": "python",
   "name": "python3"
  },
  "language_info": {
   "codemirror_mode": {
    "name": "ipython",
    "version": 3
   },
   "file_extension": ".py",
   "mimetype": "text/x-python",
   "name": "python",
   "nbconvert_exporter": "python",
   "pygments_lexer": "ipython3",
   "version": "3.6.2"
  }
 },
 "nbformat": 4,
 "nbformat_minor": 2
}
